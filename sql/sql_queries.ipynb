{
 "cells": [
  {
   "cell_type": "code",
   "execution_count": 12,
   "metadata": {},
   "outputs": [],
   "source": [
    "from sql_connection import engine\n",
    "import pandas as pd"
   ]
  },
  {
   "cell_type": "code",
   "execution_count": 13,
   "metadata": {},
   "outputs": [],
   "source": [
    "def get_everything ():\n",
    "    query = \"\"\"SELECT * FROM the_office_lines;\"\"\"\n",
    "    df = pd.read_sql_query(query, engine)\n",
    "    return df.to_dict(orient=\"records\")"
   ]
  },
  {
   "cell_type": "code",
   "execution_count": 14,
   "metadata": {},
   "outputs": [],
   "source": [
    "def get_everything_from_character (name):\n",
    "    query = f\"\"\"SELECT * \n",
    "    FROM the_office_lines\n",
    "    WHERE speaker = '{name}';\"\"\"\n",
    "\n",
    "    df = pd.read_sql_query(query, engine)\n",
    "    return df.to_dict(orient=\"records\")"
   ]
  },
  {
   "cell_type": "code",
   "execution_count": 15,
   "metadata": {},
   "outputs": [],
   "source": [
    "def get_just_dialogue (name):\n",
    "    query = f\"\"\"SELECT line \n",
    "    FROM the_office_lines\n",
    "    WHERE speaker = '{name}';\"\"\"\n",
    "\n",
    "    df = pd.read_sql_query(query, engine)\n",
    "    return df.to_dict(orient=\"records\")"
   ]
  },
  {
   "cell_type": "code",
   "execution_count": null,
   "metadata": {},
   "outputs": [],
   "source": []
  },
  {
   "cell_type": "code",
   "execution_count": null,
   "metadata": {},
   "outputs": [],
   "source": []
  },
  {
   "cell_type": "code",
   "execution_count": null,
   "metadata": {},
   "outputs": [],
   "source": []
  },
  {
   "cell_type": "code",
   "execution_count": null,
   "metadata": {},
   "outputs": [],
   "source": [
    "def insert_one_row (scene, character_name, dialogue):\n",
    "    query = f\"\"\"INSERT INTO users\n",
    "     (scene, character_name, dialogue) \n",
    "        VALUES ({scene}, '{character_name}', '{dialogue}');\n",
    "    \"\"\"\n",
    "    engine.execute(query)\n",
    "    return f\"Correctly introduced!\""
   ]
  }
 ],
 "metadata": {
  "kernelspec": {
   "display_name": "Python 3.10.4 ('ironhack')",
   "language": "python",
   "name": "python3"
  },
  "language_info": {
   "codemirror_mode": {
    "name": "ipython",
    "version": 3
   },
   "file_extension": ".py",
   "mimetype": "text/x-python",
   "name": "python",
   "nbconvert_exporter": "python",
   "pygments_lexer": "ipython3",
   "version": "3.10.4"
  },
  "orig_nbformat": 4,
  "vscode": {
   "interpreter": {
    "hash": "10cad967c453900039007de2b11d94e822a1579bed14f6590fb511028dcecd61"
   }
  }
 },
 "nbformat": 4,
 "nbformat_minor": 2
}
