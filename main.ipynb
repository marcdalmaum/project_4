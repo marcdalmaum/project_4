{
 "cells": [
  {
   "cell_type": "code",
   "execution_count": null,
   "metadata": {},
   "outputs": [],
   "source": [
    "from flask import Flask, request, jsonify\n",
    "import random\n",
    "import numpy as np\n",
    "import markdown.extensions.fenced_code\n",
    "import sql.sql_queries as esecuele\n",
    "from nltk.sentiment.vader import SentimentIntensityAnalyzer\n",
    "sia = SentimentIntensityAnalyzer()"
   ]
  },
  {
   "cell_type": "code",
   "execution_count": null,
   "metadata": {},
   "outputs": [],
   "source": [
    "app = Flask(__name__)\n",
    "if __name__ == \"__main__\":\n",
    "    app.run(port=9000, debug=True)"
   ]
  },
  {
   "cell_type": "code",
   "execution_count": null,
   "metadata": {},
   "outputs": [],
   "source": [
    "# Render the markdwon\n",
    "@app.route(\"/\")\n",
    "def readme ():\n",
    "    readme_file = open(\"README.md\", \"r\")\n",
    "    return markdown.markdown(readme_file.read(), extensions = [\"fenced_code\"])"
   ]
  },
  {
   "cell_type": "code",
   "execution_count": null,
   "metadata": {},
   "outputs": [],
   "source": [
    "# GET ENDPOINTS: SQL \n",
    "# SQL get everything\n",
    "@app.route(\"/sql/\")\n",
    "def sql ():\n",
    "    return jsonify(esecuele.get_everything())\n",
    "\n",
    "@app.route(\"/sql/<name>\", )\n",
    "def lines_from_characters (name):\n",
    "    return jsonify(esecuele.get_everything_from_character(name))\n",
    "\n",
    "\n",
    "@app.route(\"/sa/<name>/\", )\n",
    "def sa_from_character (name):\n",
    "    everything = esecuele.get_just_dialogue(name)\n",
    "    #return jsonify(everything)\n",
    "    return jsonify([sia.polarity_scores(i[\"dialogue\"])[\"compound\"] for i in everything])"
   ]
  },
  {
   "cell_type": "code",
   "execution_count": null,
   "metadata": {},
   "outputs": [],
   "source": []
  },
  {
   "cell_type": "code",
   "execution_count": null,
   "metadata": {},
   "outputs": [],
   "source": []
  },
  {
   "cell_type": "code",
   "execution_count": null,
   "metadata": {},
   "outputs": [],
   "source": []
  },
  {
   "cell_type": "code",
   "execution_count": null,
   "metadata": {},
   "outputs": [],
   "source": [
    "####### POST\n",
    "@app.route(\"/insertrow\", methods=[\"POST\"])\n",
    "def try_post ():\n",
    "    # Decoding params\n",
    "    my_params = request.args\n",
    "    scene = my_params[\"scene\"]\n",
    "    character_name = my_params[\"character_name\"]\n",
    "    dialogue = my_params[\"dialogue\"]\n",
    "\n",
    "    # Passing to my function: do the inserr\n",
    "    esecuele.insert_one_row(scene, character_name, dialogue)\n",
    "    return f\"Query succesfully inserted\""
   ]
  },
  {
   "cell_type": "code",
   "execution_count": null,
   "metadata": {},
   "outputs": [],
   "source": []
  },
  {
   "cell_type": "code",
   "execution_count": null,
   "metadata": {},
   "outputs": [],
   "source": []
  },
  {
   "cell_type": "code",
   "execution_count": null,
   "metadata": {},
   "outputs": [],
   "source": []
  },
  {
   "cell_type": "code",
   "execution_count": null,
   "metadata": {},
   "outputs": [],
   "source": [
    "if __name__ == \"__main__\":\n",
    "    app.run(port=9000, debug=True)"
   ]
  },
  {
   "cell_type": "code",
   "execution_count": null,
   "metadata": {},
   "outputs": [],
   "source": []
  }
 ],
 "metadata": {
  "kernelspec": {
   "display_name": "Python 3.10.4 ('ironhack')",
   "language": "python",
   "name": "python3"
  },
  "language_info": {
   "codemirror_mode": {
    "name": "ipython",
    "version": 3
   },
   "file_extension": ".py",
   "mimetype": "text/x-python",
   "name": "python",
   "nbconvert_exporter": "python",
   "pygments_lexer": "ipython3",
   "version": "3.10.4"
  },
  "orig_nbformat": 4,
  "vscode": {
   "interpreter": {
    "hash": "10cad967c453900039007de2b11d94e822a1579bed14f6590fb511028dcecd61"
   }
  }
 },
 "nbformat": 4,
 "nbformat_minor": 2
}
